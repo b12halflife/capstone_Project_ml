{
  "nbformat": 4,
  "nbformat_minor": 0,
  "metadata": {
    "colab": {
      "provenance": [],
      "include_colab_link": true
    },
    "kernelspec": {
      "name": "python3",
      "display_name": "Python 3"
    },
    "language_info": {
      "name": "python"
    }
  },
  "cells": [
    {
      "cell_type": "markdown",
      "metadata": {
        "id": "view-in-github",
        "colab_type": "text"
      },
      "source": [
        "<a href=\"https://colab.research.google.com/github/b12halflife/capstone_Project_ml/blob/main/trash_detection_and_classification.ipynb\" target=\"_parent\"><img src=\"https://colab.research.google.com/assets/colab-badge.svg\" alt=\"Open In Colab\"/></a>"
      ]
    },
    {
      "cell_type": "code",
      "execution_count": 1,
      "metadata": {
        "id": "EBE1WiyLAQZp"
      },
      "outputs": [],
      "source": [
        "import numpy as np\n",
        "import pandas as pd\n",
        "import tensorflow as tf\n",
        "import zipfile\n",
        "from PIL import Image\n",
        "from matplotlib import pyplot as plt\n",
        "from tensorflow.python.util import compat\n",
        "from tensorflow.core.protobuf import saved_model_pb2\n",
        "from google.protobuf import text_format\n",
        "import pprint\n",
        "import json\n",
        "import os"
      ]
    },
    {
      "cell_type": "code",
      "source": [
        "!pip install protobuf==3.20"
      ],
      "metadata": {
        "colab": {
          "base_uri": "https://localhost:8080/",
          "height": 489
        },
        "id": "cg9u8P8s4FuU",
        "outputId": "b31b467a-64d2-44d3-c14f-64c4892be242"
      },
      "execution_count": 5,
      "outputs": [
        {
          "output_type": "stream",
          "name": "stdout",
          "text": [
            "Looking in indexes: https://pypi.org/simple, https://us-python.pkg.dev/colab-wheels/public/simple/\n",
            "Collecting protobuf==3.20\n",
            "  Downloading protobuf-3.20.0-cp310-cp310-manylinux_2_12_x86_64.manylinux2010_x86_64.whl (1.1 MB)\n",
            "\u001b[2K     \u001b[90m━━━━━━━━━━━━━━━━━━━━━━━━━━━━━━━━━━━━━━━━\u001b[0m \u001b[32m1.1/1.1 MB\u001b[0m \u001b[31m15.6 MB/s\u001b[0m eta \u001b[36m0:00:00\u001b[0m\n",
            "\u001b[?25hInstalling collected packages: protobuf\n",
            "  Attempting uninstall: protobuf\n",
            "    Found existing installation: protobuf 3.20.3\n",
            "    Uninstalling protobuf-3.20.3:\n",
            "      Successfully uninstalled protobuf-3.20.3\n",
            "\u001b[31mERROR: pip's dependency resolver does not currently take into account all the packages that are installed. This behaviour is the source of the following dependency conflicts.\n",
            "google-api-core 2.11.0 requires protobuf!=3.20.0,!=3.20.1,!=4.21.0,!=4.21.1,!=4.21.2,!=4.21.3,!=4.21.4,!=4.21.5,<5.0.0dev,>=3.19.5, but you have protobuf 3.20.0 which is incompatible.\n",
            "google-cloud-bigquery 3.9.0 requires protobuf!=3.20.0,!=3.20.1,!=4.21.0,!=4.21.1,!=4.21.2,!=4.21.3,!=4.21.4,!=4.21.5,<5.0.0dev,>=3.19.5, but you have protobuf 3.20.0 which is incompatible.\n",
            "google-cloud-bigquery-storage 2.19.1 requires protobuf!=3.20.0,!=3.20.1,!=4.21.0,!=4.21.1,!=4.21.2,!=4.21.3,!=4.21.4,!=4.21.5,<5.0.0dev,>=3.19.5, but you have protobuf 3.20.0 which is incompatible.\n",
            "google-cloud-datastore 2.15.1 requires protobuf!=3.20.0,!=3.20.1,!=4.21.0,!=4.21.1,!=4.21.2,!=4.21.3,!=4.21.4,!=4.21.5,<5.0.0dev,>=3.19.5, but you have protobuf 3.20.0 which is incompatible.\n",
            "google-cloud-firestore 2.11.0 requires protobuf!=3.20.0,!=3.20.1,!=4.21.0,!=4.21.1,!=4.21.2,!=4.21.3,!=4.21.4,!=4.21.5,<5.0.0dev,>=3.19.5, but you have protobuf 3.20.0 which is incompatible.\n",
            "google-cloud-language 2.9.1 requires protobuf!=3.20.0,!=3.20.1,!=4.21.0,!=4.21.1,!=4.21.2,!=4.21.3,!=4.21.4,!=4.21.5,<5.0.0dev,>=3.19.5, but you have protobuf 3.20.0 which is incompatible.\n",
            "google-cloud-translate 3.11.1 requires protobuf!=3.20.0,!=3.20.1,!=4.21.0,!=4.21.1,!=4.21.2,!=4.21.3,!=4.21.4,!=4.21.5,<5.0.0dev,>=3.19.5, but you have protobuf 3.20.0 which is incompatible.\n",
            "googleapis-common-protos 1.59.0 requires protobuf!=3.20.0,!=3.20.1,!=4.21.1,!=4.21.2,!=4.21.3,!=4.21.4,!=4.21.5,<5.0.0dev,>=3.19.5, but you have protobuf 3.20.0 which is incompatible.\n",
            "tensorflow 2.12.0 requires protobuf!=4.21.0,!=4.21.1,!=4.21.2,!=4.21.3,!=4.21.4,!=4.21.5,<5.0.0dev,>=3.20.3, but you have protobuf 3.20.0 which is incompatible.\n",
            "tensorflow-metadata 1.13.1 requires protobuf<5,>=3.20.3, but you have protobuf 3.20.0 which is incompatible.\u001b[0m\u001b[31m\n",
            "\u001b[0mSuccessfully installed protobuf-3.20.0\n"
          ]
        },
        {
          "output_type": "display_data",
          "data": {
            "application/vnd.colab-display-data+json": {
              "pip_warning": {
                "packages": [
                  "google"
                ]
              }
            }
          },
          "metadata": {}
        }
      ]
    },
    {
      "cell_type": "code",
      "execution_count": 2,
      "metadata": {
        "colab": {
          "base_uri": "https://localhost:8080/"
        },
        "id": "NmRQr0eKWcu7",
        "outputId": "58349099-5794-49ec-ebcb-6aff7108b9f9"
      },
      "outputs": [
        {
          "output_type": "stream",
          "name": "stdout",
          "text": [
            "Downloading...\n",
            "From: https://drive.google.com/uc?id=1UobB5zH9-qSvmOLmA5DAHpWfKNx12F4Z\n",
            "To: /content/data.zip\n",
            "100% 2.62G/2.62G [00:19<00:00, 138MB/s]\n"
          ]
        }
      ],
      "source": [
        "!gdown 1UobB5zH9-qSvmOLmA5DAHpWfKNx12F4Z"
      ]
    },
    {
      "cell_type": "code",
      "source": [
        "!unzip data.zip -d taco_dataset"
      ],
      "metadata": {
        "colab": {
          "base_uri": "https://localhost:8080/"
        },
        "id": "81MpmVuM1wyo",
        "outputId": "20854e75-5006-4e2d-9124-dba7a2956de8"
      },
      "execution_count": null,
      "outputs": [
        {
          "output_type": "stream",
          "name": "stdout",
          "text": [
            "Archive:  data.zip\n",
            "replace taco_dataset/annotations.json? [y]es, [n]o, [A]ll, [N]one, [r]ename: "
          ]
        }
      ]
    },
    {
      "cell_type": "code",
      "source": [
        "from object_detection.utils import visualization_utils as vis_util\n",
        "from object_detection.utils import dataset_util, label_map_util\n",
        "from object_detection.protos import string_int_label_map_pb2"
      ],
      "metadata": {
        "id": "IZEqMoYKAmvk"
      },
      "execution_count": null,
      "outputs": []
    },
    {
      "cell_type": "code",
      "source": [
        "DATA_DIR = '/tmp/dataset_taco'\n",
        "ANNOTATIONS_FILE = os.path.join(DATA_DIR, 'annotations.json')\n",
        "NCLASSES = 60"
      ],
      "metadata": {
        "id": "DJ2GxYVEIB4j"
      },
      "execution_count": null,
      "outputs": []
    },
    {
      "cell_type": "code",
      "source": [
        "with open(ANNOTATIONS_FILE) as json_file:\n",
        "    data = json.load(json_file)\n",
        "    \n",
        "categories = data['categories']"
      ],
      "metadata": {
        "id": "6_AAGHnqIS85"
      },
      "execution_count": null,
      "outputs": []
    },
    {
      "cell_type": "code",
      "source": [
        "print('Building label map from examples')\n",
        "\n",
        "labelmap = string_int_label_map_pb2.StringIntLabelMap()\n",
        "for idx,category in enumerate(categories):\n",
        "    item = labelmap.item.add()\n",
        "    # label map id 0 is reserved for the background label\n",
        "    item.id = int(category['id'])+1\n",
        "    item.name = category['name']\n",
        "\n",
        "with open('./labelmap.pbtxt', 'w') as f:\n",
        "    f.write(text_format.MessageToString(labelmap))\n",
        "\n",
        "print('Label map witten to labelmap.pbtxt')\n",
        "\n",
        "with open('./labelmap.pbtxt') as f:\n",
        "    pprint.pprint(f.readlines())"
      ],
      "metadata": {
        "colab": {
          "base_uri": "https://localhost:8080/"
        },
        "id": "q6ZfvVoXIXea",
        "outputId": "4132a4e9-6cad-49b8-9f66-788b63ba5d30"
      },
      "execution_count": null,
      "outputs": [
        {
          "output_type": "stream",
          "name": "stdout",
          "text": [
            "Building label map from examples\n",
            "Label map witten to labelmap.pbtxt\n",
            "['item {\\n',\n",
            " '  name: \"Aluminium foil\"\\n',\n",
            " '  id: 1\\n',\n",
            " '}\\n',\n",
            " 'item {\\n',\n",
            " '  name: \"Battery\"\\n',\n",
            " '  id: 2\\n',\n",
            " '}\\n',\n",
            " 'item {\\n',\n",
            " '  name: \"Aluminium blister pack\"\\n',\n",
            " '  id: 3\\n',\n",
            " '}\\n',\n",
            " 'item {\\n',\n",
            " '  name: \"Carded blister pack\"\\n',\n",
            " '  id: 4\\n',\n",
            " '}\\n',\n",
            " 'item {\\n',\n",
            " '  name: \"Other plastic bottle\"\\n',\n",
            " '  id: 5\\n',\n",
            " '}\\n',\n",
            " 'item {\\n',\n",
            " '  name: \"Clear plastic bottle\"\\n',\n",
            " '  id: 6\\n',\n",
            " '}\\n',\n",
            " 'item {\\n',\n",
            " '  name: \"Glass bottle\"\\n',\n",
            " '  id: 7\\n',\n",
            " '}\\n',\n",
            " 'item {\\n',\n",
            " '  name: \"Plastic bottle cap\"\\n',\n",
            " '  id: 8\\n',\n",
            " '}\\n',\n",
            " 'item {\\n',\n",
            " '  name: \"Metal bottle cap\"\\n',\n",
            " '  id: 9\\n',\n",
            " '}\\n',\n",
            " 'item {\\n',\n",
            " '  name: \"Broken glass\"\\n',\n",
            " '  id: 10\\n',\n",
            " '}\\n',\n",
            " 'item {\\n',\n",
            " '  name: \"Food Can\"\\n',\n",
            " '  id: 11\\n',\n",
            " '}\\n',\n",
            " 'item {\\n',\n",
            " '  name: \"Aerosol\"\\n',\n",
            " '  id: 12\\n',\n",
            " '}\\n',\n",
            " 'item {\\n',\n",
            " '  name: \"Drink can\"\\n',\n",
            " '  id: 13\\n',\n",
            " '}\\n',\n",
            " 'item {\\n',\n",
            " '  name: \"Toilet tube\"\\n',\n",
            " '  id: 14\\n',\n",
            " '}\\n',\n",
            " 'item {\\n',\n",
            " '  name: \"Other carton\"\\n',\n",
            " '  id: 15\\n',\n",
            " '}\\n',\n",
            " 'item {\\n',\n",
            " '  name: \"Egg carton\"\\n',\n",
            " '  id: 16\\n',\n",
            " '}\\n',\n",
            " 'item {\\n',\n",
            " '  name: \"Drink carton\"\\n',\n",
            " '  id: 17\\n',\n",
            " '}\\n',\n",
            " 'item {\\n',\n",
            " '  name: \"Corrugated carton\"\\n',\n",
            " '  id: 18\\n',\n",
            " '}\\n',\n",
            " 'item {\\n',\n",
            " '  name: \"Meal carton\"\\n',\n",
            " '  id: 19\\n',\n",
            " '}\\n',\n",
            " 'item {\\n',\n",
            " '  name: \"Pizza box\"\\n',\n",
            " '  id: 20\\n',\n",
            " '}\\n',\n",
            " 'item {\\n',\n",
            " '  name: \"Paper cup\"\\n',\n",
            " '  id: 21\\n',\n",
            " '}\\n',\n",
            " 'item {\\n',\n",
            " '  name: \"Disposable plastic cup\"\\n',\n",
            " '  id: 22\\n',\n",
            " '}\\n',\n",
            " 'item {\\n',\n",
            " '  name: \"Foam cup\"\\n',\n",
            " '  id: 23\\n',\n",
            " '}\\n',\n",
            " 'item {\\n',\n",
            " '  name: \"Glass cup\"\\n',\n",
            " '  id: 24\\n',\n",
            " '}\\n',\n",
            " 'item {\\n',\n",
            " '  name: \"Other plastic cup\"\\n',\n",
            " '  id: 25\\n',\n",
            " '}\\n',\n",
            " 'item {\\n',\n",
            " '  name: \"Food waste\"\\n',\n",
            " '  id: 26\\n',\n",
            " '}\\n',\n",
            " 'item {\\n',\n",
            " '  name: \"Glass jar\"\\n',\n",
            " '  id: 27\\n',\n",
            " '}\\n',\n",
            " 'item {\\n',\n",
            " '  name: \"Plastic lid\"\\n',\n",
            " '  id: 28\\n',\n",
            " '}\\n',\n",
            " 'item {\\n',\n",
            " '  name: \"Metal lid\"\\n',\n",
            " '  id: 29\\n',\n",
            " '}\\n',\n",
            " 'item {\\n',\n",
            " '  name: \"Other plastic\"\\n',\n",
            " '  id: 30\\n',\n",
            " '}\\n',\n",
            " 'item {\\n',\n",
            " '  name: \"Magazine paper\"\\n',\n",
            " '  id: 31\\n',\n",
            " '}\\n',\n",
            " 'item {\\n',\n",
            " '  name: \"Tissues\"\\n',\n",
            " '  id: 32\\n',\n",
            " '}\\n',\n",
            " 'item {\\n',\n",
            " '  name: \"Wrapping paper\"\\n',\n",
            " '  id: 33\\n',\n",
            " '}\\n',\n",
            " 'item {\\n',\n",
            " '  name: \"Normal paper\"\\n',\n",
            " '  id: 34\\n',\n",
            " '}\\n',\n",
            " 'item {\\n',\n",
            " '  name: \"Paper bag\"\\n',\n",
            " '  id: 35\\n',\n",
            " '}\\n',\n",
            " 'item {\\n',\n",
            " '  name: \"Plastified paper bag\"\\n',\n",
            " '  id: 36\\n',\n",
            " '}\\n',\n",
            " 'item {\\n',\n",
            " '  name: \"Plastic film\"\\n',\n",
            " '  id: 37\\n',\n",
            " '}\\n',\n",
            " 'item {\\n',\n",
            " '  name: \"Six pack rings\"\\n',\n",
            " '  id: 38\\n',\n",
            " '}\\n',\n",
            " 'item {\\n',\n",
            " '  name: \"Garbage bag\"\\n',\n",
            " '  id: 39\\n',\n",
            " '}\\n',\n",
            " 'item {\\n',\n",
            " '  name: \"Other plastic wrapper\"\\n',\n",
            " '  id: 40\\n',\n",
            " '}\\n',\n",
            " 'item {\\n',\n",
            " '  name: \"Single-use carrier bag\"\\n',\n",
            " '  id: 41\\n',\n",
            " '}\\n',\n",
            " 'item {\\n',\n",
            " '  name: \"Polypropylene bag\"\\n',\n",
            " '  id: 42\\n',\n",
            " '}\\n',\n",
            " 'item {\\n',\n",
            " '  name: \"Crisp packet\"\\n',\n",
            " '  id: 43\\n',\n",
            " '}\\n',\n",
            " 'item {\\n',\n",
            " '  name: \"Spread tub\"\\n',\n",
            " '  id: 44\\n',\n",
            " '}\\n',\n",
            " 'item {\\n',\n",
            " '  name: \"Tupperware\"\\n',\n",
            " '  id: 45\\n',\n",
            " '}\\n',\n",
            " 'item {\\n',\n",
            " '  name: \"Disposable food container\"\\n',\n",
            " '  id: 46\\n',\n",
            " '}\\n',\n",
            " 'item {\\n',\n",
            " '  name: \"Foam food container\"\\n',\n",
            " '  id: 47\\n',\n",
            " '}\\n',\n",
            " 'item {\\n',\n",
            " '  name: \"Other plastic container\"\\n',\n",
            " '  id: 48\\n',\n",
            " '}\\n',\n",
            " 'item {\\n',\n",
            " '  name: \"Plastic glooves\"\\n',\n",
            " '  id: 49\\n',\n",
            " '}\\n',\n",
            " 'item {\\n',\n",
            " '  name: \"Plastic utensils\"\\n',\n",
            " '  id: 50\\n',\n",
            " '}\\n',\n",
            " 'item {\\n',\n",
            " '  name: \"Pop tab\"\\n',\n",
            " '  id: 51\\n',\n",
            " '}\\n',\n",
            " 'item {\\n',\n",
            " '  name: \"Rope & strings\"\\n',\n",
            " '  id: 52\\n',\n",
            " '}\\n',\n",
            " 'item {\\n',\n",
            " '  name: \"Scrap metal\"\\n',\n",
            " '  id: 53\\n',\n",
            " '}\\n',\n",
            " 'item {\\n',\n",
            " '  name: \"Shoe\"\\n',\n",
            " '  id: 54\\n',\n",
            " '}\\n',\n",
            " 'item {\\n',\n",
            " '  name: \"Squeezable tube\"\\n',\n",
            " '  id: 55\\n',\n",
            " '}\\n',\n",
            " 'item {\\n',\n",
            " '  name: \"Plastic straw\"\\n',\n",
            " '  id: 56\\n',\n",
            " '}\\n',\n",
            " 'item {\\n',\n",
            " '  name: \"Paper straw\"\\n',\n",
            " '  id: 57\\n',\n",
            " '}\\n',\n",
            " 'item {\\n',\n",
            " '  name: \"Styrofoam piece\"\\n',\n",
            " '  id: 58\\n',\n",
            " '}\\n',\n",
            " 'item {\\n',\n",
            " '  name: \"Unlabeled litter\"\\n',\n",
            " '  id: 59\\n',\n",
            " '}\\n',\n",
            " 'item {\\n',\n",
            " '  name: \"Cigarette\"\\n',\n",
            " '  id: 60\\n',\n",
            " '}\\n']\n"
          ]
        }
      ]
    }
  ]
}